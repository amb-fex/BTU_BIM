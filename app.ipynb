{
 "cells": [
  {
   "cell_type": "code",
   "execution_count": 1,
   "id": "3c01b5c1-b482-4eb3-acd8-f520b0c44346",
   "metadata": {},
   "outputs": [
    {
     "name": "stdout",
     "output_type": "stream",
     "text": [
      "Requirement already satisfied: flask in c:\\users\\sandr\\anaconda3\\lib\\site-packages (3.0.3)\n",
      "Collecting flask-ngrok\n",
      "  Downloading flask_ngrok-0.0.25-py3-none-any.whl.metadata (1.8 kB)\n",
      "Collecting psycopg2\n",
      "  Downloading psycopg2-2.9.10-cp312-cp312-win_amd64.whl.metadata (5.0 kB)\n",
      "Requirement already satisfied: Werkzeug>=3.0.0 in c:\\users\\sandr\\anaconda3\\lib\\site-packages (from flask) (3.0.3)\n",
      "Requirement already satisfied: Jinja2>=3.1.2 in c:\\users\\sandr\\anaconda3\\lib\\site-packages (from flask) (3.1.4)\n",
      "Requirement already satisfied: itsdangerous>=2.1.2 in c:\\users\\sandr\\anaconda3\\lib\\site-packages (from flask) (2.2.0)\n",
      "Requirement already satisfied: click>=8.1.3 in c:\\users\\sandr\\anaconda3\\lib\\site-packages (from flask) (8.1.7)\n",
      "Requirement already satisfied: blinker>=1.6.2 in c:\\users\\sandr\\anaconda3\\lib\\site-packages (from flask) (1.6.2)\n",
      "Requirement already satisfied: requests in c:\\users\\sandr\\anaconda3\\lib\\site-packages (from flask-ngrok) (2.32.3)\n",
      "Requirement already satisfied: colorama in c:\\users\\sandr\\anaconda3\\lib\\site-packages (from click>=8.1.3->flask) (0.4.6)\n",
      "Requirement already satisfied: MarkupSafe>=2.0 in c:\\users\\sandr\\anaconda3\\lib\\site-packages (from Jinja2>=3.1.2->flask) (2.1.3)\n",
      "Requirement already satisfied: charset-normalizer<4,>=2 in c:\\users\\sandr\\anaconda3\\lib\\site-packages (from requests->flask-ngrok) (3.3.2)\n",
      "Requirement already satisfied: idna<4,>=2.5 in c:\\users\\sandr\\anaconda3\\lib\\site-packages (from requests->flask-ngrok) (3.7)\n",
      "Requirement already satisfied: urllib3<3,>=1.21.1 in c:\\users\\sandr\\anaconda3\\lib\\site-packages (from requests->flask-ngrok) (2.2.3)\n",
      "Requirement already satisfied: certifi>=2017.4.17 in c:\\users\\sandr\\anaconda3\\lib\\site-packages (from requests->flask-ngrok) (2024.8.30)\n",
      "Downloading flask_ngrok-0.0.25-py3-none-any.whl (3.1 kB)\n",
      "Downloading psycopg2-2.9.10-cp312-cp312-win_amd64.whl (1.2 MB)\n",
      "   ---------------------------------------- 0.0/1.2 MB ? eta -:--:--\n",
      "   --------- ------------------------------ 0.3/1.2 MB ? eta -:--:--\n",
      "   ---------------------------------------- 1.2/1.2 MB 3.6 MB/s eta 0:00:00\n",
      "Installing collected packages: psycopg2, flask-ngrok\n",
      "Successfully installed flask-ngrok-0.0.25 psycopg2-2.9.10\n",
      "Note: you may need to restart the kernel to use updated packages.\n"
     ]
    }
   ],
   "source": [
    "pip install flask flask-ngrok psycopg2\n"
   ]
  },
  {
   "cell_type": "code",
   "execution_count": 9,
   "id": "7d2da303-8ca3-4a0b-8a81-f35c8686a066",
   "metadata": {},
   "outputs": [
    {
     "name": "stdout",
     "output_type": "stream",
     "text": [
      "¡Conexión exitosa a la base de datos!\n"
     ]
    }
   ],
   "source": [
    "import psycopg2\n",
    "\n",
    "try:\n",
    "    conn = psycopg2.connect(\n",
    "        host=\"localhost\",\n",
    "        database=\"btu_bim\",\n",
    "        user=\"postgres\",\n",
    "        password=\"postgres\",\n",
    "        port=\"5432\"\n",
    "    )\n",
    "    print(\"¡Conexión exitosa a la base de datos!\")\n",
    "    conn.close()\n",
    "except Exception as e:\n",
    "    print(f\"Error al conectar a la base de datos: {e}\")\n"
   ]
  },
  {
   "cell_type": "code",
   "execution_count": 7,
   "id": "f7fce12f-bf65-4d75-944b-29a81249a61f",
   "metadata": {},
   "outputs": [
    {
     "name": "stdout",
     "output_type": "stream",
     "text": [
      " * Serving Flask app '__main__'\n",
      " * Debug mode: on\n"
     ]
    },
    {
     "name": "stderr",
     "output_type": "stream",
     "text": [
      "WARNING: This is a development server. Do not use it in a production deployment. Use a production WSGI server instead.\n",
      " * Running on http://127.0.0.1:5000\n",
      "Press CTRL+C to quit\n",
      " * Restarting with watchdog (windowsapi)\n"
     ]
    },
    {
     "ename": "SystemExit",
     "evalue": "1",
     "output_type": "error",
     "traceback": [
      "An exception has occurred, use %tb to see the full traceback.\n",
      "\u001b[1;31mSystemExit\u001b[0m\u001b[1;31m:\u001b[0m 1\n"
     ]
    },
    {
     "name": "stderr",
     "output_type": "stream",
     "text": [
      "C:\\Users\\sandr\\anaconda3\\Lib\\site-packages\\IPython\\core\\interactiveshell.py:3585: UserWarning: To exit: use 'exit', 'quit', or Ctrl-D.\n",
      "  warn(\"To exit: use 'exit', 'quit', or Ctrl-D.\", stacklevel=1)\n"
     ]
    }
   ],
   "source": [
    "from flask import Flask, request, jsonify\n",
    "import psycopg2\n",
    "\n",
    "app = Flask(__name__)\n",
    "\n",
    "# Configuración de PostgreSQL\n",
    "DB_HOST = \"localhost\"\n",
    "DB_NAME = \"btu_ibm\"\n",
    "DB_USER = \"postgres\"\n",
    "DB_PASSWORD = \"postgres\"\n",
    "DB_PORT = \"5432\"\n",
    "\n",
    "@app.route(\"/submit\", methods=[\"POST\"])\n",
    "def submit_data():\n",
    "    # Obtener datos enviados desde el formulario\n",
    "    data = request.json\n",
    "    categoria = data.get(\"categoria\")\n",
    "    elemento = data.get(\"elemento\")\n",
    "    descripcion = data.get(\"descripcion\")\n",
    "    tipo = data.get(\"tipo\")\n",
    "    geometria = data.get(\"geometria\")\n",
    "    terreno = data.get(\"terreno\")  # Esto será una lista\n",
    "    captacion = data.get(\"captacion\")\n",
    "    fotografias = data.get(\"fotografias\")  # Esto será Base64\n",
    "    observaciones = data.get(\"observaciones\")\n",
    "\n",
    "    try:\n",
    "        # Conectar a PostgreSQL\n",
    "        conn = psycopg2.connect(\n",
    "            host=DB_HOST,\n",
    "            database=DB_NAME,\n",
    "            user=DB_USER,\n",
    "            password=DB_PASSWORD,\n",
    "            port=DB_PORT\n",
    "        )\n",
    "        cur = conn.cursor()\n",
    "\n",
    "        # Insertar datos en la tabla\n",
    "        cur.execute(\"\"\"\n",
    "            INSERT INTO datos_btu_bim \n",
    "            (categoria, elemento_objeto, descripcion, tipo, geometria, terreno, captacion, fotografias, observaciones)\n",
    "            VALUES (%s, %s, %s, %s, %s, %s, %s, %s, %s)\n",
    "        \"\"\", (categoria, elemento, descripcion, tipo, geometria, terreno, captacion, fotografias, observaciones))\n",
    "        conn.commit()\n",
    "\n",
    "        cur.close()\n",
    "        conn.close()\n",
    "        return jsonify({\"message\": \"Datos guardados con éxito\"}), 200\n",
    "    except Exception as e:\n",
    "        return jsonify({\"error\": str(e)}), 500\n",
    "\n",
    "if __name__ == \"__main__\":\n",
    "    app.run(debug=True)\n"
   ]
  },
  {
   "cell_type": "code",
   "execution_count": null,
   "id": "83e95bd2-7c2d-4f69-ae3b-4783356f5b9c",
   "metadata": {},
   "outputs": [],
   "source": []
  }
 ],
 "metadata": {
  "kernelspec": {
   "display_name": "Python 3 (ipykernel)",
   "language": "python",
   "name": "python3"
  },
  "language_info": {
   "codemirror_mode": {
    "name": "ipython",
    "version": 3
   },
   "file_extension": ".py",
   "mimetype": "text/x-python",
   "name": "python",
   "nbconvert_exporter": "python",
   "pygments_lexer": "ipython3",
   "version": "3.12.7"
  }
 },
 "nbformat": 4,
 "nbformat_minor": 5
}
